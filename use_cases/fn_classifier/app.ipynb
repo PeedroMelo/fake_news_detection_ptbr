{
 "cells": [
  {
   "cell_type": "markdown",
   "metadata": {},
   "source": [
    "# Algoritmo Naive Bayes"
   ]
  },
  {
   "cell_type": "code",
   "execution_count": 1,
   "metadata": {},
   "outputs": [],
   "source": [
    "import os, sys\n",
    "import pandas as pd\n",
    "\n",
    "from spacy.lang.pt import Portuguese\n",
    "\n",
    "import nltk\n",
    "from nltk.tokenize import word_tokenize\n",
    "\n",
    "from sklearn.model_selection import train_test_split\n",
    "from sklearn.naive_bayes import MultinomialNB\n",
    "from sklearn.feature_extraction.text import CountVectorizer"
   ]
  },
  {
   "cell_type": "markdown",
   "metadata": {},
   "source": [
    "#### Importing helper"
   ]
  },
  {
   "cell_type": "code",
   "execution_count": 2,
   "metadata": {},
   "outputs": [],
   "source": [
    "# Importing custom functions (temp)\n",
    "current_dir = os.path.abspath('')\n",
    "parent_dir = os.path.dirname(current_dir)\n",
    "parent_dir = os.path.dirname(parent_dir)\n",
    "sys.path.append(parent_dir)\n",
    "\n",
    "from helpers.string_cleaner import StringCleaner as sc"
   ]
  },
  {
   "cell_type": "markdown",
   "metadata": {},
   "source": [
    "### 1. Processamento Dataset"
   ]
  },
  {
   "cell_type": "markdown",
   "metadata": {},
   "source": [
    "#### 1.1 Extrair dataset"
   ]
  },
  {
   "cell_type": "code",
   "execution_count": 3,
   "metadata": {},
   "outputs": [],
   "source": [
    "true_ds = pd.read_csv('true.csv', sep=';')\n",
    "fake_ds = pd.read_csv('fake.csv', sep=';')"
   ]
  },
  {
   "cell_type": "code",
   "execution_count": 4,
   "metadata": {},
   "outputs": [],
   "source": [
    "true_ds['fake'] = 0\n",
    "fake_ds['fake'] = 1"
   ]
  },
  {
   "cell_type": "code",
   "execution_count": 5,
   "metadata": {},
   "outputs": [],
   "source": [
    "fake_df = pd.DataFrame(fake_ds)\n",
    "true_df = pd.DataFrame(true_ds)\n",
    "\n",
    "df = pd.concat([fake_df, true_ds])\n",
    "df = df.drop('idx', axis=1)\n",
    "\n",
    "pd.set_option('display.max_colwidth', None)"
   ]
  },
  {
   "cell_type": "markdown",
   "metadata": {},
   "source": [
    "#### 1.2 Limpar o dataframe"
   ]
  },
  {
   "cell_type": "markdown",
   "metadata": {},
   "source": [
    "**Observações**:\n",
    "* Verificar a necessidade de adicionar as siglas dos estados brasileiros como stop words.\n",
    "* Verificar a necessidade de remover o conteúdo entre colchetes e parênteses.\n",
    "* Verificar a necessidade de remover formatação de datas e horários\n",
    "* Verificar a necessidade de remover caracteres especiais, como: cedilha, acentos, etc."
   ]
  },
  {
   "cell_type": "code",
   "execution_count": 6,
   "metadata": {},
   "outputs": [],
   "source": [
    "# stop words using spaCy\n",
    "nlp_pt = Portuguese()\n",
    "stopwords = nlp_pt.Defaults.stop_words\n",
    "nlp_pt.Defaults.stop_words.remove('sem')\n",
    "nlp_pt.Defaults.stop_words.add('to')\n",
    "\n",
    "def remove_stopwords(text):\n",
    "    final_text = []\n",
    "    for token in text.split():\n",
    "      if token.lower() not in stopwords:\n",
    "          final_text.append(token)\n",
    "    return \" \".join(final_text)\n",
    "\n",
    "def denoise_text(text):\n",
    "    text = sc.remove_url(text)\n",
    "    text = sc.remove_special_characters(text)\n",
    "    text = remove_stopwords(text)\n",
    "\n",
    "    return text.lower()\n",
    "\n",
    "df['full_text'] = df['full_text'].apply(denoise_text)"
   ]
  },
  {
   "cell_type": "code",
   "execution_count": 7,
   "metadata": {},
   "outputs": [
    {
     "data": {
      "text/html": [
       "<div>\n",
       "<style scoped>\n",
       "    .dataframe tbody tr th:only-of-type {\n",
       "        vertical-align: middle;\n",
       "    }\n",
       "\n",
       "    .dataframe tbody tr th {\n",
       "        vertical-align: top;\n",
       "    }\n",
       "\n",
       "    .dataframe thead th {\n",
       "        text-align: right;\n",
       "    }\n",
       "</style>\n",
       "<table border=\"1\" class=\"dataframe\">\n",
       "  <thead>\n",
       "    <tr style=\"text-align: right;\">\n",
       "      <th></th>\n",
       "      <th>full_text</th>\n",
       "      <th>fake</th>\n",
       "    </tr>\n",
       "  </thead>\n",
       "  <tbody>\n",
       "    <tr>\n",
       "      <th>0</th>\n",
       "      <td>katia abreu colocar expulsao moldura nao reclamar senadora katia abreu sem partido disse expulsao pmdb resultado acao cupula atual legenda oportunista amanha vou botar moldura dourada expulsao maos veio atestado conduta curriculo pessoas expulsaram nao servem pais servem pais beneficios proprios disse katia abreu ue expulsao tao curriculo choradeira katia sabemos motivo provavelmente katia nao pt partido ja deveria la absorvido pt gostava katia ficasse entrincheirada pmdb seja rebaixar resta katia ficar chorando pitangas cantos ate pt nao cadastrou katia abreu fileiras situacao patetica ex ministra agricultura dilma</td>\n",
       "      <td>1</td>\n",
       "    </tr>\n",
       "    <tr>\n",
       "      <th>1</th>\n",
       "      <td>dr ray peita bolsonaro chama conservador fake entrevista danilo gentili divide site avisando jair bolsonaro deveria abandonar pauta estatista discurso convincente liberais conservadores brasil livres amarras estatais pesquisas privatizacoes indice 50 facil revertido bolsonaro deveria falar direitistas focar petistas arrependidos recentemente disse pensaria 200 privatizar petrobras nao caia maos chineses deveria dito garanto privatizacao petrobras tambem garanto chineses nao irao compra la nao deixaria brechas jeito falou suposto medo venda chineses pretexto evitar privatizacao seja la adotar alternativas foquem reduzido diminuicao impostos venda estatais alem joao amoedo dr rey fazendo vicejar discurso candidatura esteja fase inicial complicado bolsonaro aparecam pessoas propondo visao economicamente direitista economia enfim 3240 dr rey espinafrando bolsonaro brechas nao reclamar aproveitem nao</td>\n",
       "      <td>1</td>\n",
       "    </tr>\n",
       "    <tr>\n",
       "      <th>2</th>\n",
       "      <td>reinaldo azevedo desmascarado policia federal ferrenho critico presidenciavel jair bolsonaro desmascarado grampo telefonico conversas irma aecio neves conversa debochavam juiz sergio moro operacao lava jato ficou clara intencao jornalista defesas tao ferrenhas tucanos colunas jovem pan amigo intimo familia neves alto tucanato propaganda psdbista inves jornalismo jornalista reinaldo azevedo conversa andrea neves irma senador afastado aecio neves interceptada policia federal assunto tratado sao acusacoes aecio contidas delacao odebrecht dialogo classificou reportagem revista trabalhava demitido nojenta referia edicao trouxe aecio capa titulo aecio reinaldo criticou tambem procurador republica rodrigo janot dizia janot atacava aecio supostas pretensoes candidatar governo minas gerais senado conversa divulgada colunista demitido esperar vitima ha agressao garantias profissao crime esteja sendo cometido sigilo conversa jornalista fonte pilares jornalismo escreveu gravacoes anexadas procuradoria republica conjunto audios anexados inquerito provocou afastamento aecio prisao irma poderemos reinaldo fazendo companhia amigo tucano cadeia</td>\n",
       "      <td>1</td>\n",
       "    </tr>\n",
       "    <tr>\n",
       "      <th>3</th>\n",
       "      <td>relatorio assustador bndes mostra dinheiro publico brasil jorrando paises comunistas relatorio intitulado bndes transformado robin hood avessas mostra bndes influenciado governo petista conseguiu beneficiar pequeno percentual empresas escolhidas dedo afundou instituicao dividas astronomicas autoria deputada cristiane brasil documento apresentado cpi bndes mostra pt apossou banco conceder beneficios paises comunistas trecho documento destaca existencia contratos secretos suspeitas pratica atos corrupcao criacao empresas fachada beneficiar paises cuba angola venezuela republica dominicana guatemala cristiane apontou gama irregularidades concessao creditos relatou nao houve respeito procedimentos propria instituicao tampouco leis regulamentam operacoes precisamos urgentemente derrubar sigilo desses contratos secretos desmascarar pilantragem feita dinheiro publico abaixo resumo documento texto oficial voce conferir site camara federal ha diversas suspeitas irregularidades area internacional sendo auditadas contratos cerca r 300 milhoes aprovados diretoria respectiva poucos paragrafos utilizacao termos genericos abstratos sem analise especifica obra sera realizada pedidos financiamento realizacao obras distintas paises diferentes sao aprovados praticamente mesma fundamentacao utilizacao mesmas expressoes sem indicativo nacoes obras serem realizadas sao distintas ocorre comparamos processos concessao financiamento obras realizadas guatemala republica dominicana tratem obras paises diversos fundamentacao concessao respectivos emprestimos praticamente mesma afirmando contrato produzira fomento ajudara pais exportar divisas sic servicos ressalte nenhum relatorios indicam serao beneficios sociais pais projeto nao ha mencao numero empregos serao gerados brasil efeito operacao tera parque industrial brasileiro detalhamento poderia adotado bndes melhorar transparencia governanca caso operacoes venezuela ha processo andamento tcu proposta aplicacao multa bndes pese seja pratica corriqueira banco decisoes finais financiamento sejam aprovadas administrativo tcu entendendo diretoria respectiva responsabilizada decisoes orgao controle aponta registro arquivos banco fundamentacoes decisoes critica classifica parecer oral financiamentos determinados relatorios decisoes diretoria constatou erros digitacao implicaram celebracao contratos valores financiamento inferiores pretendidos supostas falhas transcricao documentos culminou erro autorizacao prazo deferido financiamento corpo tecnico bndes demonstre alta capacidade falhas comprometem qualidade procedimento ha questione nao caso mera chancela decisoes previamente tomadas instancias superiores governos sucessivos pt favorecimento amigos rei brahma outro revisao dessas praticas aprimorara transparencia lisura instituicao</td>\n",
       "      <td>1</td>\n",
       "    </tr>\n",
       "    <tr>\n",
       "      <th>4</th>\n",
       "      <td>radialista americano fala pt vendem ilusao brasileiro so pensam divertir sitio radialista americano alex jones chorou falar criancas saude brasil jones citou microcefalia espalha mundo descaso crise politica brasileira esquerda nao so vendem ilusoes deveria chama los disse jones video radialista falou surto microcefalia nao conteve caiu lagrimas criancas nao amparo precisamos pessoas boas ajudar pessoas deixaram microcefalia crescer pais</td>\n",
       "      <td>1</td>\n",
       "    </tr>\n",
       "    <tr>\n",
       "      <th>5</th>\n",
       "      <td>willian waack continuara internado sirio libanes apresentador jornal globo ficara afastado funcoes indeterminado waack continuara internado hospital sirio libanes sao paulo submetido ultima feira procedimento cateterismo recebeu stents tubo metalico usado desobstruir arterias quadro considerado delicado rede globo sirio libanes nao manifestaram publicamente situacao waack jornalista apresentador carlos tramontina continuara substituindo willian comando jornal globo</td>\n",
       "      <td>1</td>\n",
       "    </tr>\n",
       "    <tr>\n",
       "      <th>6</th>\n",
       "      <td>problema cardiaco tira william waack jornal globo apresentador sera operado amanha waack ficara afastado temporariamente jornal globo apos submeter exames rotina medicos determinaram jornalista passe cateterismo procedimento utilizado diagnosticar tratar doencas cardiacas waack ja internado hospital sirio libanes fara cirurgia manha feira 20 carlos tramontina precisou convocado ultima hora comandara jornal globo proximos dias sirio nao emitiu nota saude ancora global</td>\n",
       "      <td>1</td>\n",
       "    </tr>\n",
       "    <tr>\n",
       "      <th>7</th>\n",
       "      <td>edir macedo podera disputar eleicoes presidenciais 2018 caso lula seja absolvido 2a instancia dificil acontecer eleicoes 2018 pesquisas preliminares apontam turno disputadissimo ex presidente petista deputado jair bolsonaro prever futuro politico pais nomes ja estao sendo confirmados concorrer cargo maximo planalto senadores paranaenses alvaro dias roberto requiao ex ministra marina silva ciro gomes ex governador ce atual governador sp geraldo alckmin tambem confirmaram pretendem concorrer proximas eleicoes presidenciais liderancas religiosas nao ficar ja articulam lancar proprio candidato bispo edir macedo dono igreja universal tv record nao descartou possibilidade colocar nome urnas eletronicas proximo ano bancada evangelica congresso reunido frequencia rede globo principal desafeto tv record nao escolheu nome apoiar indica familia marinho forte admiracao presidente stf ministra carmen lucia jose serra aecio neves joaquim barbosa nomes ventilados porem nao houve confirmacao</td>\n",
       "      <td>1</td>\n",
       "    </tr>\n",
       "    <tr>\n",
       "      <th>8</th>\n",
       "      <td>boechat lula alma honesta governo diabo lula direito alma honesta porem nao significa disse apresentador governo diabo partido diabo tesoureiro pt vaccari sr tentou isentar cana ze dirceu figura importante partido cana disse boechat confira</td>\n",
       "      <td>1</td>\n",
       "    </tr>\n",
       "    <tr>\n",
       "      <th>9</th>\n",
       "      <td>pt lula nao dinheiro sobreviver chama moro mentirosomesquinho conspirador partido trabalhadores soltou nota repudio decisao juiz sergio moro bloqueio patrimonios ex presidente r 606 partido alega lula pobre nao dinheiro basico abre aspas condenar ex presidente lula sem provas propagar mentiras contradizer propria sentenca juiz sergio moro decidiu vingar inocente bloquear bens lula moro decretou pena asfixia economica priva ex presidente casa meios subsistir ate defender falsas acusacoes decisao mesquinha tramada segredo longo 9 forca tarefa curitiba concluida apos forte reacao sociedade mundo juridico sentenca injusta caso triplex caso tipico retaliacao vale cumplicidade rede globo cometer arbitrariedades lider popular pais fecha aspas</td>\n",
       "      <td>1</td>\n",
       "    </tr>\n",
       "    <tr>\n",
       "      <th>10</th>\n",
       "      <td>numero fuzilados durante regime fidel castro chegado casa 17 acordo documentos projeto cuba archive organizado cubano americanos residentes jersey chamado paredon cubano vitimou 3820 acordo fonte porem fuzilamentos ilha instauracao regime fidel chegado casa 17 50 anos regime irmaos castro fuzilou 3820 pessoas estimativa proprio fidel governo cuba manteve decada 60 cerca 20 oponentes politicos atras grades coordenadores projeto cuba archive existente 1996 compilou documentos depoimentos 1959 ate data hoje dados estao disponiveis site wwwcubaarchiveorg ha tres estimativas citadas analistas historiadores consultados folha sp paredon cubano livro negro comunismo bertrand brasil 1999 relata 15 17 pessoas fuziladas ja liveo cuba cronologia siglos historia politica y cultura 2003 historiador cubano leopoldo fornes bonavia estima 4000 opoentes governo fuzilados ate 1961 hugh thomas historiador britanico autor cuba or the pursuit of the liberty 1971 torno 5000 fuzilados ate 1970 pra acha fidel pessoa google ai basta perder tempinho pesquisar</td>\n",
       "      <td>1</td>\n",
       "    </tr>\n",
       "    <tr>\n",
       "      <th>11</th>\n",
       "      <td>coodenador lava jato revolta aumento impostos corruptos desviam 200 bilhoes ano procurador republica deltan dallagnol coordenador forca tarefa ministerio publico federal lava jato varias pessoas lutam tirar pais maos ladroes gravata mensagem publicada redes sociais dallagnol desabafou aumento impostos anunciado governo temer precisamos recuperar dignidade claro brasileiros vao compreender aumento impostos desviam 200 bilhoes ano praticando corrupcao gastam emendas milionarias livrar temer acusacoes corrupcao colocar conta bolso aumentando impostos abastecer carro vou pensar saude educacao pobres buracos estradas infraestrutura precaria prejudica investimentos vou lembrar</td>\n",
       "      <td>1</td>\n",
       "    </tr>\n",
       "    <tr>\n",
       "      <th>12</th>\n",
       "      <td>lula voce nao moleque sofreu dono friboi gostariamos video abaixo comovente voce problemas cardiacos tendencia depressao nao assista depoimento comovente feito 20 lula apelo juiz sergio moro entao pf mpf apresentam desgraca power point criam fantasia fantasia deles chefe escolhi mundo pra roubar triste peco moro estiver ouvindo procuradores lava jato pf apresentem prova pedaco papel higienico assinado amor deus voces ajudam internet passou 6 anos falando filho dono friboi voce nao moleque sofreu dono friboi abaixo video original sem cortes nao haver duvidas fala ex presidente minuto 5740</td>\n",
       "      <td>1</td>\n",
       "    </tr>\n",
       "    <tr>\n",
       "      <th>13</th>\n",
       "      <td>urgente janot pede prisao aecio neves procurador republica rodrigo janot pediu feira 22 supremo tribunal federal stf prisao senador afastado aecio neves psdb mg advogado alberto toron defesa aecio neves informou aguarda intimado pedido pgr apresentar contrarrazoes oportunidade demonstrara impropriedade pedido tambem afirmou ingressara stf pedido revogar afastamento senador mandato base legal constitucional orgao entende aecio pego flagrante crime inafiancavel tentativa obstruir investigacoes operacao lava jato base gravacoes realizadas donos jbs entregues delacao premiada empresa janot argumentou gravacoes interceptacoes telefonicas demonstrariam aecio adotando constante reiteradamente estrategias obstrucao investigacoes operacao lava jato</td>\n",
       "      <td>1</td>\n",
       "    </tr>\n",
       "    <tr>\n",
       "      <th>14</th>\n",
       "      <td>lula recebe intimacao justica escreve letras esgarranchadas pretendo recorrer lula recebeu oficial justica residencia sao bernardo demonstrou desprezo judiciario brasileiro documento expedido juiz federal sergio moro consta intimacao oficial petista condenacao 95 anos prisao unica ex presidente tinha assinar documento nao contentou rabisco horroroso mensagem moro letras esgarranchadas condenado escreveu intimacao pretendo recorrer</td>\n",
       "      <td>1</td>\n",
       "    </tr>\n",
       "    <tr>\n",
       "      <th>15</th>\n",
       "      <td>americano revoltado escreve texto viraliza internet 20 razoes odeio brasil brasileiros casado brasileira viver 3 anos brasil norte americano decidiu cuspir prato comeu retrospectiva2017 asmaislidas retornou terra natal usou redes sociais descrever odiou pais lista publicada portal amplicatecom divulgada facebook twitter apos receber diversos comentarios agressivos brasileiros americano decidiu excluir postagem original forum gringoescom printou lista materia voltou viralizar 1 nao consideracao nao participam circulo social vizinho toca musica alta durante noite voce pedir educadamente abaixar som mandar voce fu simplesmente nao educacao alguem esbarra voce rua ira pedir desculpas esqueca 2 sao agressivos levar vantagem transito tiverem ultrapassar voce farao jogam carro pra sem piedade 3 nao respeitam ambiente jogam lixo rua natureza rios recursos naturais estao sendo desperdicados pais sujo 4 toleram corrupcao governo setor privado populacao elege mesmos corruptos 5 mulheres brasil sao obcecadas corpos adoram competicao si 6 homens acham legal trair mulheres descaramento nao ha fidelidade 7 sao educados falam publicamente nao importam ferir sentimentos pessoa 8 trabalhadores sao geralmente malandros preguicosos atrasados ganhar trabalhar acham governo bolsa bolsa nao estudam nao capacitam adoram ficar resmungando cantos 9 ricos sao arrogantes insensiveis acham estao acima justica pobres ganham tao conseguem alimentar nao esperancas futuro partem crime 10 brasileiros nao esperam voce terminar falar interrompem comecam tagarelar especie competicao ouvido 11 policia ineficaz ganha nao cumpre leis proteger populacao nao respeita policia pessoas vivem cercadas muros grades alarmes cercas eletricas constantemente estao panico medo violencia 12 tornam inconveniente dificil burocracia politicos impoem cidadaos outro mundo impostos brasil retornam sao roubados cara dura 13 voltando assuntos impostos pagam taxas absurdas produtos casa eletronicos carros arroz feijaoetc empresarios sao obrigados seguir leis sustentar governo corrupto quase conseguem lucro 14 verao quente inferno dura 9 ano casas nao possuem isolamento termico voce sofre calor durante 9 passa frio 3 15 comida sem graca repetitiva inconveniente quase nao existe alimentos congelados prontos serem consumidos voce encontra preco absurdamente elevado 16 sao sociaveis quase ficam sozinhos voce nao consegue descansar fins semana quase obrigatorio convidar pessoas casa 17 nao saem asas papai mamae moram juntos espremidos ficam emocional geograficamente durante vida familias vivem intrometendo vida casal aconteceu comigo fofocas diariamente 18 servicos basicos eletricidade agua esgoto internet sao pessimos eou ausentes pais voce encontra servicos sao absurdamente caros ruins 19 qualidade agua reprovavel 20 so existe cerveja brasil composta basicamente agua porcaria cervejas importadas custam olhos cara leia tambem 21072017 24072017</td>\n",
       "      <td>1</td>\n",
       "    </tr>\n",
       "    <tr>\n",
       "      <th>16</th>\n",
       "      <td>ministro defesa nao descarta intervencao militar politicos nao resolverem crise raul jungmann ministro defesa governo temer nao descartou hipotese intervencao militar brasil militares raul jungmann disse visao crise atual resumida estao fechados constituicao farao livrinho b entendem tendo vista aprofundamento social economico crise cabe politicos rapida resolucao crise agrave c estao preocupados perspectiva quadro nao revertido verem convocados intervir nome garantia lei ordem glo art 142 caput cf jungmann escreveu conjuntura lhes razao temor descontrole desemprego recessao inflacao colapso fiscal estados municipios justifica preocupacao quadro poderia saneado politica nao fosse refem dela propria texto publicado conta pessoal facebook ministro</td>\n",
       "      <td>1</td>\n",
       "    </tr>\n",
       "    <tr>\n",
       "      <th>17</th>\n",
       "      <td>diogo portugal valioso lula viu eike corre compra diploma humorista comentou prisao eike batista guardado ate complexo penitenciario bangu 9 empresario nao comprovou concluido ensino superior brasil nao direito recolhimento separado cara rico brasil revista forbes caras ricos mundo viu lambanca investiu estudo disse diogo diogo aconselhou lula lula corre pra comprar diploma</td>\n",
       "      <td>1</td>\n",
       "    </tr>\n",
       "    <tr>\n",
       "      <th>18</th>\n",
       "      <td>internauta rebate texto americano criticou brasil falar verifique mazelas pais americano revoltado escreveu texto destacava 20 motivos fizeram odiar brasil brasileiros leia internauta eduardo nao vamos citar sobrenome questoes privacidade leu palavras gringo decidiu digamos igualar jogo concordo colocacoes impostos politicos principalmente discordo brasileiro cidades existe nervosismo isolamento pessoas fato perigoso contato estranhos igualzinho cidades norte americanas interior pessoas sao cordiais receptivas ja varias oportunidades vivenciar b poluicao ambiental certo nao educado contrario norte americanos sao educados acabaram milhoes hectares florestas poluem ar constantemente ate sairam acordos mundiais diminuir emissao poluentes tragedias derramamento petroleo poluiram mataram fauna flora golfo alem passado quase extinguiram bufalos bisoes cacando esporte massacraram milhares indios confinando reservas viver miseraveis c la eua existe muita educacao tambem principalmente transito cidades metro pichado politicos corruptos racismo disfarcado nao principalmente latinos negros ex harlem d outro assunto abordado brasileiros ficam asas pais populacao trabalhar contribuir sustento lares entao afirmacao nao verdadeira estados unidos conhece mulher voce conta bancaria la surgiu industria divorcios milionarios principalmente infidelidade cultura la voltada valorizar medem pessoas ganham anualmente separando pessoas castas ricos ficam fechados reunioes clubes exclusivos f comida discordo totalmente colocacao americano infeliz estadia brasil culinaria brasileira tamanho continental farta diversos tipos alimentos temperos sabores distintos dirigem diversos chefs mundo busca captar pratos temperos sabores contrario comida norte americana enlatada congelada sem sabor principalmente churrascos gosto carne hormonio ja presenciei visitas tecnicas confinamentos so pegam sabor sao cobertos molhos barbecue feitos churrasqueiras gas sofrivel</td>\n",
       "      <td>1</td>\n",
       "    </tr>\n",
       "    <tr>\n",
       "      <th>19</th>\n",
       "      <td>pau chico francisco tambem nao costumamos reproduzir materia sites petistas porem blog tijolaco publicou texto merece atencao lils palestras empresa ex presidente lula recebeu cerca 27 milhoes ultimos 4 anos nao acreditando existencia dessas palestras publicado internet detalhe curioso chamou atencao contratantes conferencias sao empresas conhecidas brasil mundo rede globo pagou r 450 lula microsoft pagou r 375 nestle r 3566 bank of america r 876 lista continua lojas americanas portal terra tetrapak tv azteca mexico lg telos parceiros abril folha sp etc queremos chegar obvio palestras realmente existiram sao legais conforme mostra imagem abaixo aconteceu alguma treta nomes citados imagem sao cumplices lula responder criminalmente ex presidente pau chico francisco tambem</td>\n",
       "      <td>1</td>\n",
       "    </tr>\n",
       "  </tbody>\n",
       "</table>\n",
       "</div>"
      ],
      "text/plain": [
       "                                                                                                                                                                                                                                                                                                                                                                                                                                                                                                                                                                                                                                                                                                                                                                                                                                                                                                                                                                                                                                                                                                                                                                                                                                                                                                                                                                                                                                                                                                                                                                                                                                                                                                                                                                                                                                                                                                                                                                                                                                                                                                                                                                                                                                                                                                                                                                                                                                                                                                                                                                                                                                                                                                                                                                                                                                                                                                                                                                                                                                              full_text  \\\n",
       "0                                                                                                                                                                                                                                                                                                                                                                                                                                                                                                                                                                                                                                                                                                                                                                                                                                                                                                                                                                                                                                                                                                                                                                                                                                                                                                                                                                                                                                                                                                                                                                                                                                                                                                                                                                                                                                                                                                                                                                                                                                                                                                                                                                                                                                                                                                                                                                                                       katia abreu colocar expulsao moldura nao reclamar senadora katia abreu sem partido disse expulsao pmdb resultado acao cupula atual legenda oportunista amanha vou botar moldura dourada expulsao maos veio atestado conduta curriculo pessoas expulsaram nao servem pais servem pais beneficios proprios disse katia abreu ue expulsao tao curriculo choradeira katia sabemos motivo provavelmente katia nao pt partido ja deveria la absorvido pt gostava katia ficasse entrincheirada pmdb seja rebaixar resta katia ficar chorando pitangas cantos ate pt nao cadastrou katia abreu fileiras situacao patetica ex ministra agricultura dilma   \n",
       "1                                                                                                                                                                                                                                                                                                                                                                                                                                                                                                                                                                                                                                                                                                                                                                                                                                                                                                                                                                                                                                                                                                                                                                                                                                                                                                                                                                                                                                                                                                                                                                                                                                                                                                                                                                                                                                                                                                                                                                                                                                                                                                          dr ray peita bolsonaro chama conservador fake entrevista danilo gentili divide site avisando jair bolsonaro deveria abandonar pauta estatista discurso convincente liberais conservadores brasil livres amarras estatais pesquisas privatizacoes indice 50 facil revertido bolsonaro deveria falar direitistas focar petistas arrependidos recentemente disse pensaria 200 privatizar petrobras nao caia maos chineses deveria dito garanto privatizacao petrobras tambem garanto chineses nao irao compra la nao deixaria brechas jeito falou suposto medo venda chineses pretexto evitar privatizacao seja la adotar alternativas foquem reduzido diminuicao impostos venda estatais alem joao amoedo dr rey fazendo vicejar discurso candidatura esteja fase inicial complicado bolsonaro aparecam pessoas propondo visao economicamente direitista economia enfim 3240 dr rey espinafrando bolsonaro brechas nao reclamar aproveitem nao   \n",
       "2                                                                                                                                                                                                                                                                                                                                                                                                                                                                                                                                                                                                                                                                                                                                                                                                                                                                                                                                                                                                                                                                                                                                                                                                                                                                                                                                                                                                                                                                                                                                                                                                                                                                                                                                                                                                                                                             reinaldo azevedo desmascarado policia federal ferrenho critico presidenciavel jair bolsonaro desmascarado grampo telefonico conversas irma aecio neves conversa debochavam juiz sergio moro operacao lava jato ficou clara intencao jornalista defesas tao ferrenhas tucanos colunas jovem pan amigo intimo familia neves alto tucanato propaganda psdbista inves jornalismo jornalista reinaldo azevedo conversa andrea neves irma senador afastado aecio neves interceptada policia federal assunto tratado sao acusacoes aecio contidas delacao odebrecht dialogo classificou reportagem revista trabalhava demitido nojenta referia edicao trouxe aecio capa titulo aecio reinaldo criticou tambem procurador republica rodrigo janot dizia janot atacava aecio supostas pretensoes candidatar governo minas gerais senado conversa divulgada colunista demitido esperar vitima ha agressao garantias profissao crime esteja sendo cometido sigilo conversa jornalista fonte pilares jornalismo escreveu gravacoes anexadas procuradoria republica conjunto audios anexados inquerito provocou afastamento aecio prisao irma poderemos reinaldo fazendo companhia amigo tucano cadeia   \n",
       "3                                                                                                                                      relatorio assustador bndes mostra dinheiro publico brasil jorrando paises comunistas relatorio intitulado bndes transformado robin hood avessas mostra bndes influenciado governo petista conseguiu beneficiar pequeno percentual empresas escolhidas dedo afundou instituicao dividas astronomicas autoria deputada cristiane brasil documento apresentado cpi bndes mostra pt apossou banco conceder beneficios paises comunistas trecho documento destaca existencia contratos secretos suspeitas pratica atos corrupcao criacao empresas fachada beneficiar paises cuba angola venezuela republica dominicana guatemala cristiane apontou gama irregularidades concessao creditos relatou nao houve respeito procedimentos propria instituicao tampouco leis regulamentam operacoes precisamos urgentemente derrubar sigilo desses contratos secretos desmascarar pilantragem feita dinheiro publico abaixo resumo documento texto oficial voce conferir site camara federal ha diversas suspeitas irregularidades area internacional sendo auditadas contratos cerca r 300 milhoes aprovados diretoria respectiva poucos paragrafos utilizacao termos genericos abstratos sem analise especifica obra sera realizada pedidos financiamento realizacao obras distintas paises diferentes sao aprovados praticamente mesma fundamentacao utilizacao mesmas expressoes sem indicativo nacoes obras serem realizadas sao distintas ocorre comparamos processos concessao financiamento obras realizadas guatemala republica dominicana tratem obras paises diversos fundamentacao concessao respectivos emprestimos praticamente mesma afirmando contrato produzira fomento ajudara pais exportar divisas sic servicos ressalte nenhum relatorios indicam serao beneficios sociais pais projeto nao ha mencao numero empregos serao gerados brasil efeito operacao tera parque industrial brasileiro detalhamento poderia adotado bndes melhorar transparencia governanca caso operacoes venezuela ha processo andamento tcu proposta aplicacao multa bndes pese seja pratica corriqueira banco decisoes finais financiamento sejam aprovadas administrativo tcu entendendo diretoria respectiva responsabilizada decisoes orgao controle aponta registro arquivos banco fundamentacoes decisoes critica classifica parecer oral financiamentos determinados relatorios decisoes diretoria constatou erros digitacao implicaram celebracao contratos valores financiamento inferiores pretendidos supostas falhas transcricao documentos culminou erro autorizacao prazo deferido financiamento corpo tecnico bndes demonstre alta capacidade falhas comprometem qualidade procedimento ha questione nao caso mera chancela decisoes previamente tomadas instancias superiores governos sucessivos pt favorecimento amigos rei brahma outro revisao dessas praticas aprimorara transparencia lisura instituicao   \n",
       "4                                                                                                                                                                                                                                                                                                                                                                                                                                                                                                                                                                                                                                                                                                                                                                                                                                                                                                                                                                                                                                                                                                                                                                                                                                                                                                                                                                                                                                                                                                                                                                                                                                                                                                                                                                                                                                                                                                                                                                                                                                                                                                                                                                                                                                                                                                                                                                                                                                                                                                                                                                                             radialista americano fala pt vendem ilusao brasileiro so pensam divertir sitio radialista americano alex jones chorou falar criancas saude brasil jones citou microcefalia espalha mundo descaso crise politica brasileira esquerda nao so vendem ilusoes deveria chama los disse jones video radialista falou surto microcefalia nao conteve caiu lagrimas criancas nao amparo precisamos pessoas boas ajudar pessoas deixaram microcefalia crescer pais   \n",
       "5                                                                                                                                                                                                                                                                                                                                                                                                                                                                                                                                                                                                                                                                                                                                                                                                                                                                                                                                                                                                                                                                                                                                                                                                                                                                                                                                                                                                                                                                                                                                                                                                                                                                                                                                                                                                                                                                                                                                                                                                                                                                                                                                                                                                                                                                                                                                                                                                                                                                                                                                                                 willian waack continuara internado sirio libanes apresentador jornal globo ficara afastado funcoes indeterminado waack continuara internado hospital sirio libanes sao paulo submetido ultima feira procedimento cateterismo recebeu stents tubo metalico usado desobstruir arterias quadro considerado delicado rede globo sirio libanes nao manifestaram publicamente situacao waack jornalista apresentador carlos tramontina continuara substituindo willian comando jornal globo   \n",
       "6                                                                                                                                                                                                                                                                                                                                                                                                                                                                                                                                                                                                                                                                                                                                                                                                                                                                                                                                                                                                                                                                                                                                                                                                                                                                                                                                                                                                                                                                                                                                                                                                                                                                                                                                                                                                                                                                                                                                                                                                                                                                                                                                                                                                                                                                                                                                                                                                                                                                                                                                                               problema cardiaco tira william waack jornal globo apresentador sera operado amanha waack ficara afastado temporariamente jornal globo apos submeter exames rotina medicos determinaram jornalista passe cateterismo procedimento utilizado diagnosticar tratar doencas cardiacas waack ja internado hospital sirio libanes fara cirurgia manha feira 20 carlos tramontina precisou convocado ultima hora comandara jornal globo proximos dias sirio nao emitiu nota saude ancora global   \n",
       "7                                                                                                                                                                                                                                                                                                                                                                                                                                                                                                                                                                                                                                                                                                                                                                                                                                                                                                                                                                                                                                                                                                                                                                                                                                                                                                                                                                                                                                                                                                                                                                                                                                                                                                                                                                                                                                                                                                                                                                                                                        edir macedo podera disputar eleicoes presidenciais 2018 caso lula seja absolvido 2a instancia dificil acontecer eleicoes 2018 pesquisas preliminares apontam turno disputadissimo ex presidente petista deputado jair bolsonaro prever futuro politico pais nomes ja estao sendo confirmados concorrer cargo maximo planalto senadores paranaenses alvaro dias roberto requiao ex ministra marina silva ciro gomes ex governador ce atual governador sp geraldo alckmin tambem confirmaram pretendem concorrer proximas eleicoes presidenciais liderancas religiosas nao ficar ja articulam lancar proprio candidato bispo edir macedo dono igreja universal tv record nao descartou possibilidade colocar nome urnas eletronicas proximo ano bancada evangelica congresso reunido frequencia rede globo principal desafeto tv record nao escolheu nome apoiar indica familia marinho forte admiracao presidente stf ministra carmen lucia jose serra aecio neves joaquim barbosa nomes ventilados porem nao houve confirmacao   \n",
       "8                                                                                                                                                                                                                                                                                                                                                                                                                                                                                                                                                                                                                                                                                                                                                                                                                                                                                                                                                                                                                                                                                                                                                                                                                                                                                                                                                                                                                                                                                                                                                                                                                                                                                                                                                                                                                                                                                                                                                                                                                                                                                                                                                                                                                                                                                                                                                                                                                                                                                                                                                                                                                                                                                                                                                                                                      boechat lula alma honesta governo diabo lula direito alma honesta porem nao significa disse apresentador governo diabo partido diabo tesoureiro pt vaccari sr tentou isentar cana ze dirceu figura importante partido cana disse boechat confira   \n",
       "9                                                                                                                                                                                                                                                                                                                                                                                                                                                                                                                                                                                                                                                                                                                                                                                                                                                                                                                                                                                                                                                                                                                                                                                                                                                                                                                                                                                                                                                                                                                                                                                                                                                                                                                                                                                                                                                                                                                                                                                                                                                                                                                                                                                                                                                                             pt lula nao dinheiro sobreviver chama moro mentirosomesquinho conspirador partido trabalhadores soltou nota repudio decisao juiz sergio moro bloqueio patrimonios ex presidente r 606 partido alega lula pobre nao dinheiro basico abre aspas condenar ex presidente lula sem provas propagar mentiras contradizer propria sentenca juiz sergio moro decidiu vingar inocente bloquear bens lula moro decretou pena asfixia economica priva ex presidente casa meios subsistir ate defender falsas acusacoes decisao mesquinha tramada segredo longo 9 forca tarefa curitiba concluida apos forte reacao sociedade mundo juridico sentenca injusta caso triplex caso tipico retaliacao vale cumplicidade rede globo cometer arbitrariedades lider popular pais fecha aspas   \n",
       "10                                                                                                                                                                                                                                                                                                                                                                                                                                                                                                                                                                                                                                                                                                                                                                                                                                                                                                                                                                                                                                                                                                                                                                                                                                                                                                                                                                                                                                                                                                                                                                                                                                                                                                                                                                                                                                                                                                                                                             numero fuzilados durante regime fidel castro chegado casa 17 acordo documentos projeto cuba archive organizado cubano americanos residentes jersey chamado paredon cubano vitimou 3820 acordo fonte porem fuzilamentos ilha instauracao regime fidel chegado casa 17 50 anos regime irmaos castro fuzilou 3820 pessoas estimativa proprio fidel governo cuba manteve decada 60 cerca 20 oponentes politicos atras grades coordenadores projeto cuba archive existente 1996 compilou documentos depoimentos 1959 ate data hoje dados estao disponiveis site wwwcubaarchiveorg ha tres estimativas citadas analistas historiadores consultados folha sp paredon cubano livro negro comunismo bertrand brasil 1999 relata 15 17 pessoas fuziladas ja liveo cuba cronologia siglos historia politica y cultura 2003 historiador cubano leopoldo fornes bonavia estima 4000 opoentes governo fuzilados ate 1961 hugh thomas historiador britanico autor cuba or the pursuit of the liberty 1971 torno 5000 fuzilados ate 1970 pra acha fidel pessoa google ai basta perder tempinho pesquisar   \n",
       "11                                                                                                                                                                                                                                                                                                                                                                                                                                                                                                                                                                                                                                                                                                                                                                                                                                                                                                                                                                                                                                                                                                                                                                                                                                                                                                                                                                                                                                                                                                                                                                                                                                                                                                                                                                                                                                                                                                                                                                                                                                                                                                                                                                                                                                                                                                                                              coodenador lava jato revolta aumento impostos corruptos desviam 200 bilhoes ano procurador republica deltan dallagnol coordenador forca tarefa ministerio publico federal lava jato varias pessoas lutam tirar pais maos ladroes gravata mensagem publicada redes sociais dallagnol desabafou aumento impostos anunciado governo temer precisamos recuperar dignidade claro brasileiros vao compreender aumento impostos desviam 200 bilhoes ano praticando corrupcao gastam emendas milionarias livrar temer acusacoes corrupcao colocar conta bolso aumentando impostos abastecer carro vou pensar saude educacao pobres buracos estradas infraestrutura precaria prejudica investimentos vou lembrar   \n",
       "12                                                                                                                                                                                                                                                                                                                                                                                                                                                                                                                                                                                                                                                                                                                                                                                                                                                                                                                                                                                                                                                                                                                                                                                                                                                                                                                                                                                                                                                                                                                                                                                                                                                                                                                                                                                                                                                                                                                                                                                                                                                                                                                                                                                                                                                                                                                                                                                                                                   lula voce nao moleque sofreu dono friboi gostariamos video abaixo comovente voce problemas cardiacos tendencia depressao nao assista depoimento comovente feito 20 lula apelo juiz sergio moro entao pf mpf apresentam desgraca power point criam fantasia fantasia deles chefe escolhi mundo pra roubar triste peco moro estiver ouvindo procuradores lava jato pf apresentem prova pedaco papel higienico assinado amor deus voces ajudam internet passou 6 anos falando filho dono friboi voce nao moleque sofreu dono friboi abaixo video original sem cortes nao haver duvidas fala ex presidente minuto 5740   \n",
       "13                                                                                                                                                                                                                                                                                                                                                                                                                                                                                                                                                                                                                                                                                                                                                                                                                                                                                                                                                                                                                                                                                                                                                                                                                                                                                                                                                                                                                                                                                                                                                                                                                                                                                                                                                                                                                                                                                                                                                                                                                                                                                                                                                                                                                                                                        urgente janot pede prisao aecio neves procurador republica rodrigo janot pediu feira 22 supremo tribunal federal stf prisao senador afastado aecio neves psdb mg advogado alberto toron defesa aecio neves informou aguarda intimado pedido pgr apresentar contrarrazoes oportunidade demonstrara impropriedade pedido tambem afirmou ingressara stf pedido revogar afastamento senador mandato base legal constitucional orgao entende aecio pego flagrante crime inafiancavel tentativa obstruir investigacoes operacao lava jato base gravacoes realizadas donos jbs entregues delacao premiada empresa janot argumentou gravacoes interceptacoes telefonicas demonstrariam aecio adotando constante reiteradamente estrategias obstrucao investigacoes operacao lava jato   \n",
       "14                                                                                                                                                                                                                                                                                                                                                                                                                                                                                                                                                                                                                                                                                                                                                                                                                                                                                                                                                                                                                                                                                                                                                                                                                                                                                                                                                                                                                                                                                                                                                                                                                                                                                                                                                                                                                                                                                                                                                                                                                                                                                                                                                                                                                                                                                                                                                                                                                                                                                                                                                                                                   lula recebe intimacao justica escreve letras esgarranchadas pretendo recorrer lula recebeu oficial justica residencia sao bernardo demonstrou desprezo judiciario brasileiro documento expedido juiz federal sergio moro consta intimacao oficial petista condenacao 95 anos prisao unica ex presidente tinha assinar documento nao contentou rabisco horroroso mensagem moro letras esgarranchadas condenado escreveu intimacao pretendo recorrer   \n",
       "15  americano revoltado escreve texto viraliza internet 20 razoes odeio brasil brasileiros casado brasileira viver 3 anos brasil norte americano decidiu cuspir prato comeu retrospectiva2017 asmaislidas retornou terra natal usou redes sociais descrever odiou pais lista publicada portal amplicatecom divulgada facebook twitter apos receber diversos comentarios agressivos brasileiros americano decidiu excluir postagem original forum gringoescom printou lista materia voltou viralizar 1 nao consideracao nao participam circulo social vizinho toca musica alta durante noite voce pedir educadamente abaixar som mandar voce fu simplesmente nao educacao alguem esbarra voce rua ira pedir desculpas esqueca 2 sao agressivos levar vantagem transito tiverem ultrapassar voce farao jogam carro pra sem piedade 3 nao respeitam ambiente jogam lixo rua natureza rios recursos naturais estao sendo desperdicados pais sujo 4 toleram corrupcao governo setor privado populacao elege mesmos corruptos 5 mulheres brasil sao obcecadas corpos adoram competicao si 6 homens acham legal trair mulheres descaramento nao ha fidelidade 7 sao educados falam publicamente nao importam ferir sentimentos pessoa 8 trabalhadores sao geralmente malandros preguicosos atrasados ganhar trabalhar acham governo bolsa bolsa nao estudam nao capacitam adoram ficar resmungando cantos 9 ricos sao arrogantes insensiveis acham estao acima justica pobres ganham tao conseguem alimentar nao esperancas futuro partem crime 10 brasileiros nao esperam voce terminar falar interrompem comecam tagarelar especie competicao ouvido 11 policia ineficaz ganha nao cumpre leis proteger populacao nao respeita policia pessoas vivem cercadas muros grades alarmes cercas eletricas constantemente estao panico medo violencia 12 tornam inconveniente dificil burocracia politicos impoem cidadaos outro mundo impostos brasil retornam sao roubados cara dura 13 voltando assuntos impostos pagam taxas absurdas produtos casa eletronicos carros arroz feijaoetc empresarios sao obrigados seguir leis sustentar governo corrupto quase conseguem lucro 14 verao quente inferno dura 9 ano casas nao possuem isolamento termico voce sofre calor durante 9 passa frio 3 15 comida sem graca repetitiva inconveniente quase nao existe alimentos congelados prontos serem consumidos voce encontra preco absurdamente elevado 16 sao sociaveis quase ficam sozinhos voce nao consegue descansar fins semana quase obrigatorio convidar pessoas casa 17 nao saem asas papai mamae moram juntos espremidos ficam emocional geograficamente durante vida familias vivem intrometendo vida casal aconteceu comigo fofocas diariamente 18 servicos basicos eletricidade agua esgoto internet sao pessimos eou ausentes pais voce encontra servicos sao absurdamente caros ruins 19 qualidade agua reprovavel 20 so existe cerveja brasil composta basicamente agua porcaria cervejas importadas custam olhos cara leia tambem 21072017 24072017   \n",
       "16                                                                                                                                                                                                                                                                                                                                                                                                                                                                                                                                                                                                                                                                                                                                                                                                                                                                                                                                                                                                                                                                                                                                                                                                                                                                                                                                                                                                                                                                                                                                                                                                                                                                                                                                                                                                                                                                                                                                                                                                                                                                                                                                                                                                                                                                  ministro defesa nao descarta intervencao militar politicos nao resolverem crise raul jungmann ministro defesa governo temer nao descartou hipotese intervencao militar brasil militares raul jungmann disse visao crise atual resumida estao fechados constituicao farao livrinho b entendem tendo vista aprofundamento social economico crise cabe politicos rapida resolucao crise agrave c estao preocupados perspectiva quadro nao revertido verem convocados intervir nome garantia lei ordem glo art 142 caput cf jungmann escreveu conjuntura lhes razao temor descontrole desemprego recessao inflacao colapso fiscal estados municipios justifica preocupacao quadro poderia saneado politica nao fosse refem dela propria texto publicado conta pessoal facebook ministro   \n",
       "17                                                                                                                                                                                                                                                                                                                                                                                                                                                                                                                                                                                                                                                                                                                                                                                                                                                                                                                                                                                                                                                                                                                                                                                                                                                                                                                                                                                                                                                                                                                                                                                                                                                                                                                                                                                                                                                                                                                                                                                                                                                                                                                                                                                                                                                                                                                                                                                                                                                                                                                                                                                                                                                             diogo portugal valioso lula viu eike corre compra diploma humorista comentou prisao eike batista guardado ate complexo penitenciario bangu 9 empresario nao comprovou concluido ensino superior brasil nao direito recolhimento separado cara rico brasil revista forbes caras ricos mundo viu lambanca investiu estudo disse diogo diogo aconselhou lula lula corre pra comprar diploma   \n",
       "18                                                                                                                                                                                                                                                                                                                                                                                                                                                                                                                                                                                                                                                                                                                                                                                                                                                                                                                                                                                                              internauta rebate texto americano criticou brasil falar verifique mazelas pais americano revoltado escreveu texto destacava 20 motivos fizeram odiar brasil brasileiros leia internauta eduardo nao vamos citar sobrenome questoes privacidade leu palavras gringo decidiu digamos igualar jogo concordo colocacoes impostos politicos principalmente discordo brasileiro cidades existe nervosismo isolamento pessoas fato perigoso contato estranhos igualzinho cidades norte americanas interior pessoas sao cordiais receptivas ja varias oportunidades vivenciar b poluicao ambiental certo nao educado contrario norte americanos sao educados acabaram milhoes hectares florestas poluem ar constantemente ate sairam acordos mundiais diminuir emissao poluentes tragedias derramamento petroleo poluiram mataram fauna flora golfo alem passado quase extinguiram bufalos bisoes cacando esporte massacraram milhares indios confinando reservas viver miseraveis c la eua existe muita educacao tambem principalmente transito cidades metro pichado politicos corruptos racismo disfarcado nao principalmente latinos negros ex harlem d outro assunto abordado brasileiros ficam asas pais populacao trabalhar contribuir sustento lares entao afirmacao nao verdadeira estados unidos conhece mulher voce conta bancaria la surgiu industria divorcios milionarios principalmente infidelidade cultura la voltada valorizar medem pessoas ganham anualmente separando pessoas castas ricos ficam fechados reunioes clubes exclusivos f comida discordo totalmente colocacao americano infeliz estadia brasil culinaria brasileira tamanho continental farta diversos tipos alimentos temperos sabores distintos dirigem diversos chefs mundo busca captar pratos temperos sabores contrario comida norte americana enlatada congelada sem sabor principalmente churrascos gosto carne hormonio ja presenciei visitas tecnicas confinamentos so pegam sabor sao cobertos molhos barbecue feitos churrasqueiras gas sofrivel   \n",
       "19                                                                                                                                                                                                                                                                                                                                                                                                                                                                                                                                                                                                                                                                                                                                                                                                                                                                                                                                                                                                                                                                                                                                                                                                                                                                                                                                                                                                                                                                                                                                                                                                                                                                                                                                                                                                                                                                                                                                                                                                                                                                                                                                                                                                                                         pau chico francisco tambem nao costumamos reproduzir materia sites petistas porem blog tijolaco publicou texto merece atencao lils palestras empresa ex presidente lula recebeu cerca 27 milhoes ultimos 4 anos nao acreditando existencia dessas palestras publicado internet detalhe curioso chamou atencao contratantes conferencias sao empresas conhecidas brasil mundo rede globo pagou r 450 lula microsoft pagou r 375 nestle r 3566 bank of america r 876 lista continua lojas americanas portal terra tetrapak tv azteca mexico lg telos parceiros abril folha sp etc queremos chegar obvio palestras realmente existiram sao legais conforme mostra imagem abaixo aconteceu alguma treta nomes citados imagem sao cumplices lula responder criminalmente ex presidente pau chico francisco tambem   \n",
       "\n",
       "    fake  \n",
       "0      1  \n",
       "1      1  \n",
       "2      1  \n",
       "3      1  \n",
       "4      1  \n",
       "5      1  \n",
       "6      1  \n",
       "7      1  \n",
       "8      1  \n",
       "9      1  \n",
       "10     1  \n",
       "11     1  \n",
       "12     1  \n",
       "13     1  \n",
       "14     1  \n",
       "15     1  \n",
       "16     1  \n",
       "17     1  \n",
       "18     1  \n",
       "19     1  "
      ]
     },
     "execution_count": 7,
     "metadata": {},
     "output_type": "execute_result"
    }
   ],
   "source": [
    "df.head(20)"
   ]
  },
  {
   "cell_type": "markdown",
   "metadata": {},
   "source": [
    "#### 1.3 Aplicar tokenização"
   ]
  },
  {
   "cell_type": "markdown",
   "metadata": {},
   "source": [
    "**Observações**:\n",
    "* Testar tokenização posteriormente com NLP."
   ]
  },
  {
   "cell_type": "code",
   "execution_count": 8,
   "metadata": {},
   "outputs": [],
   "source": [
    "def tokenize_dataframe(dataframe):\n",
    "    result = []\n",
    "\n",
    "    for item in dataframe:\n",
    "        tokenized_item = word_tokenize(item, language=\"portuguese\")\n",
    "\n",
    "        for token in tokenized_item:\n",
    "            result.append(token)\n",
    "\n",
    "    return result\n",
    "\n",
    "# df_tokenized = tokenize_dataframe(df['full_text'])\n",
    "# df_tokenized\n",
    "# len(df_tokenized)\n",
    "# counter = Counter(df_tokenized)\n",
    "# counter = sorted (counter.values())\n",
    "# counter"
   ]
  },
  {
   "cell_type": "markdown",
   "metadata": {},
   "source": [
    "### 2. Aplicar Naive Bayes"
   ]
  },
  {
   "cell_type": "markdown",
   "metadata": {},
   "source": [
    "#### 2.1 Dividindo o dataset e transformando em um array vetorizado"
   ]
  },
  {
   "cell_type": "code",
   "execution_count": 9,
   "metadata": {},
   "outputs": [],
   "source": [
    "X_train, X_test, Y_train, Y_test = train_test_split(\n",
    "    df['full_text'],\n",
    "    df['fake'],\n",
    "    random_state=0\n",
    ")"
   ]
  },
  {
   "cell_type": "code",
   "execution_count": 10,
   "metadata": {},
   "outputs": [],
   "source": [
    "vectorizer = CountVectorizer(ngram_range=(1,2)).fit(X_train)"
   ]
  },
  {
   "cell_type": "code",
   "execution_count": 11,
   "metadata": {},
   "outputs": [],
   "source": [
    "X_train_vectorized = vectorizer.transform(X_train)"
   ]
  },
  {
   "cell_type": "code",
   "execution_count": 12,
   "metadata": {},
   "outputs": [],
   "source": [
    "# X_train_vectorized.toarray().shape"
   ]
  },
  {
   "cell_type": "markdown",
   "metadata": {},
   "source": [
    "#### 2.2 Criando um modelo de Naive Bayes e o treinando com o dataset"
   ]
  },
  {
   "cell_type": "code",
   "execution_count": 13,
   "metadata": {},
   "outputs": [
    {
     "data": {
      "text/plain": [
       "MultinomialNB(alpha=0.1)"
      ]
     },
     "execution_count": 13,
     "metadata": {},
     "output_type": "execute_result"
    }
   ],
   "source": [
    "model = MultinomialNB(alpha=0.1)\n",
    "model.fit(X_train_vectorized, Y_train)"
   ]
  },
  {
   "cell_type": "markdown",
   "metadata": {},
   "source": [
    "#### 2.3 Realizando uma predição"
   ]
  },
  {
   "cell_type": "code",
   "execution_count": 14,
   "metadata": {},
   "outputs": [],
   "source": [
    "predictions = model.predict(vectorizer.transform(X_test))"
   ]
  },
  {
   "cell_type": "code",
   "execution_count": 15,
   "metadata": {},
   "outputs": [
    {
     "name": "stdout",
     "output_type": "stream",
     "text": [
      "Accuracy:  82.62076624097723 %\n"
     ]
    }
   ],
   "source": [
    "print('Accuracy: ', 100 * sum(predictions == Y_test) / len(predictions), '%')"
   ]
  },
  {
   "cell_type": "markdown",
   "metadata": {},
   "source": [
    "#### 2.4 Testando o modelo"
   ]
  },
  {
   "cell_type": "code",
   "execution_count": 20,
   "metadata": {},
   "outputs": [
    {
     "data": {
      "text/plain": [
       "array([0, 1, 1, 0, 0])"
      ]
     },
     "execution_count": 20,
     "metadata": {},
     "output_type": "execute_result"
    }
   ],
   "source": [
    "model.predict(vectorizer.transform(\n",
    "    [\n",
    "        \"O Podemos decidiu  expulsar o deputado federal Carlos Gaguim do partido após a Polícia Federal fazer buscas a apreensões no gabinete dele na Câmara. Com isso, a legenda abre espaço para receber a senadora expulsa pelo PMDB, Katia Abreu. Por meio de nota, a legenda informou que o afastamento do parlamentar já era algo acordado entre os filiados da sigla.  “Ainda que o parlamentar tenha comunicado a conclusão de sua desfiliação para esta semana, diante dos fatos noticiados hoje, a Executiva Nacional do Podemos solicita o imediato cancelamento de sua filiação dos quadros do partido”. O partido, que no passado chegou a cogitar lançar o parlamentar como candidato ao Senado, diz que “apoia a investigação com a ampla apuração dos eventuais crimes cometidos e a consequente responsabilização dos envolvidos, para que todos sejam punidos com o máximo rigor da Lei, independentemente de posição ou cargo ocupado\",\n",
    "        \"Vota e manda pra todos os Bolsonaristas que vc conhece, família, etc.  Peça que façam o mesmo (votar e repassar apenas pra Bolsonaristas).  Essa é uma enquete da jovem pan e o resultado vai ser divulgado a segunda feira.  Fizeram uma primeira e deu 91% Bolsonaro e 9 Lula.  Pessoas da esquerda reclamaram e a jovem pan resolveu fazer essa segunda.  A esquerda se mobilizou, divulgaram e o Lula cresceu bastante.  Nesse momento tá 64 Bolsonaro e 36 Lula.  Vamos nos mobilizar também e golear de novo.\",\n",
    "        \"Justiça mandou devolver mais de 600 kg de cocaína para traficantes no Rio de Janeiro\",\n",
    "        \"Justiça obrigou a devolução de mais de 550 kg de cocaína para traficantes no estado do Rio\",\n",
    "        \"Professor de Geografia da Escola Estadual Camilo Dias faz apologia ao crime em sala de aula. Sem notar alunos gravaram ele falando coisas absurdas, uma mãe fez o seguinte relato Tô chocada, o professor é pago para dar aula de geografia e não a desmotivar  alunos de 15 anos estudar e trabalhar. Ele tá colocando na cabeça dos adolescentes que não é errado roubar e que é uma profissão.  Que traficante, prostituta e ladrão são cidadãos de bem, pais de família e que são profissionais relatou mãe qu pede providências das autoridades. E vc pais oq acham deste profissional de educação? Escute bem o que o professor fala para os alunos.\"\n",
    "    ]\n",
    "))"
   ]
  }
 ],
 "metadata": {
  "interpreter": {
   "hash": "db0f6cbdde3eb805f0a229b988d6bd72d452c42e640dd9958b4355934ec01bf5"
  },
  "kernelspec": {
   "display_name": "Python 3.6.15 64-bit",
   "language": "python",
   "name": "python3"
  },
  "language_info": {
   "codemirror_mode": {
    "name": "ipython",
    "version": 3
   },
   "file_extension": ".py",
   "mimetype": "text/x-python",
   "name": "python",
   "nbconvert_exporter": "python",
   "pygments_lexer": "ipython3",
   "version": "3.6.15"
  },
  "orig_nbformat": 4
 },
 "nbformat": 4,
 "nbformat_minor": 2
}
